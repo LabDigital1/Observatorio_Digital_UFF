{
 "cells": [
  {
   "cell_type": "code",
   "execution_count": 8,
   "id": "1ca5e974",
   "metadata": {},
   "outputs": [
    {
     "name": "stdout",
     "output_type": "stream",
     "text": [
      "+----------+-----------------------------+----------+-------------------------+\n",
      "|  Faixa   | Receita em 12 meses (Em R$) | Alíquota | Valor a deduzir (Em R$) |\n",
      "+----------+-----------------------------+----------+-------------------------+\n",
      "| 1a faixa |        Até 180.000,00       |  4,00 %  |            -            |\n",
      "| 2a faixa |  de 180.000,01 a 360.000,00 |  7,30 %  |         R$ 5.940        |\n",
      "| 3a faixa |   360.000,01 a 720.000,00   |  9,50 %  |        R$ 13.860        |\n",
      "| 4a faixa |  720.000,01 a 1.800.000,00  | 10,70 %  |        R$ 22.500        |\n",
      "| 5a faixa | 1.800.000,01 a 3.600.000,00 | 14,30 %  |        R$ 87.300        |\n",
      "| 6a faixa | 3.600.000,01 a 4.800.000,00 | 19,00 %  |        R$ 378.000       |\n",
      "+----------+-----------------------------+----------+-------------------------+\n"
     ]
    }
   ],
   "source": [
    "# Simples Nacional para e-commerce\n",
    "\n",
    "#Importar a biblioteca\n",
    "from prettytable import PrettyTable\n",
    " \n",
    "# Dar nome as colunas\n",
    "linha = PrettyTable([\"Faixa\", \"Receita em 12 meses (Em R$)\", \"Alíquota\", \"Valor a deduzir (Em R$)\"])\n",
    " \n",
    "# Adicionar as linhas\n",
    "linha.add_row([\"1a faixa\", \"Até 180.000,00\", \"4,00 %\", \"-\"])\n",
    "linha.add_row([\"2a faixa\", \"de 180.000,01 a 360.000,00\", \"7,30 %\", \"R$ 5.940\"])\n",
    "linha.add_row([\"3a faixa\", \"360.000,01 a 720.000,00\", \"9,50 %\", \"R$ 13.860\"])\n",
    "linha.add_row([\"4a faixa\", \"720.000,01 a 1.800.000,00\", \"10,70 %\", \"R$ 22.500\"])\n",
    "linha.add_row([\"5a faixa\", \"1.800.000,01 a 3.600.000,00\", \"14,30 %\", \"R$ 87.300\"])\n",
    "linha.add_row([\"6a faixa\", \"3.600.000,01 a 4.800.000,00\", \"19,00 %\", \"R$ 378.000\"])\n",
    "\n",
    "print(linha)"
   ]
  }
 ],
 "metadata": {
  "kernelspec": {
   "display_name": "Python 3 (ipykernel)",
   "language": "python",
   "name": "python3"
  },
  "language_info": {
   "codemirror_mode": {
    "name": "ipython",
    "version": 3
   },
   "file_extension": ".py",
   "mimetype": "text/x-python",
   "name": "python",
   "nbconvert_exporter": "python",
   "pygments_lexer": "ipython3",
   "version": "3.9.12"
  }
 },
 "nbformat": 4,
 "nbformat_minor": 5
}
