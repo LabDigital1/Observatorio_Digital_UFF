{
 "cells": [
  {
   "cell_type": "code",
   "execution_count": null,
   "id": "06303108",
   "metadata": {},
   "outputs": [
    {
     "name": "stdout",
     "output_type": "stream",
     "text": [
      "Quiz sobre criptomoedas.\n"
     ]
    }
   ],
   "source": [
    "# Quiz com perguntas sobre criptomoedas utilizando a função check_guess\n",
    "\n",
    "def check_guess(guess, answer):\n",
    "    global score\n",
    "    still_guessing = True\n",
    "    attempt = 0\n",
    "    while still_guessing and attempt < 3:\n",
    "        if guess.lower() == answer.lower():\n",
    "            print(\"Resposta Correta!\")\n",
    "            score = score + 1\n",
    "            still_guessing = False\n",
    "        else:\n",
    "            if attempt < 2:\n",
    "                guess = input(\"Resposta errada. Tente novamente.\")\n",
    "            attempt = attempt + 1\n",
    "    if attempt == 3:\n",
    "        print(\"A resposta correta é: \",answer )\n",
    "    \n",
    "score = 0\n",
    "print(\"Quiz sobre criptomoedas.\")\n",
    "guess1 = input(\"Qual a criptomoeda com o maior valor de mercado? \")\n",
    "check_guess(guess1, \"bitcoin\")\n",
    "guess2 = input(\"Qual a principal tecnologia utilizada nas criptomoedas Bitcoin e Ethereum? \")\n",
    "check_guess(guess2, \"blockchain\")\n",
    "guess3 = input(\"Quando foi criado o bitcoin? \")\n",
    "check_guess(guess3, \"2009\")\n",
    "print(\"Seu Score é \"+ str(score))"
   ]
  },
  {
   "cell_type": "code",
   "execution_count": null,
   "id": "447076cc",
   "metadata": {},
   "outputs": [],
   "source": []
  }
 ],
 "metadata": {
  "kernelspec": {
   "display_name": "Python 3",
   "language": "python",
   "name": "python3"
  },
  "language_info": {
   "codemirror_mode": {
    "name": "ipython",
    "version": 3
   },
   "file_extension": ".py",
   "mimetype": "text/x-python",
   "name": "python",
   "nbconvert_exporter": "python",
   "pygments_lexer": "ipython3",
   "version": "3.8.8"
  }
 },
 "nbformat": 4,
 "nbformat_minor": 5
}
