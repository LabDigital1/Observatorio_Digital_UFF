{
 "cells": [
  {
   "cell_type": "code",
   "execution_count": 3,
   "id": "96e946f8",
   "metadata": {},
   "outputs": [
    {
     "data": {
      "text/plain": [
       "['Python',\n",
       " 'Python (programming language)',\n",
       " 'Monty Python',\n",
       " 'Python (codename)',\n",
       " 'Ball python',\n",
       " 'Reticulated python',\n",
       " 'Burmese python',\n",
       " 'Python (genus)',\n",
       " 'Colt Python',\n",
       " 'History of Python']"
      ]
     },
     "execution_count": 3,
     "metadata": {},
     "output_type": "execute_result"
    }
   ],
   "source": [
    "# Buscar informações no wikipedia\n",
    "import wikipedia \n",
    "\n",
    "wikipedia.search(\"python\")\n"
   ]
  }
 ],
 "metadata": {
  "kernelspec": {
   "display_name": "Python 3 (ipykernel)",
   "language": "python",
   "name": "python3"
  },
  "language_info": {
   "codemirror_mode": {
    "name": "ipython",
    "version": 3
   },
   "file_extension": ".py",
   "mimetype": "text/x-python",
   "name": "python",
   "nbconvert_exporter": "python",
   "pygments_lexer": "ipython3",
   "version": "3.9.12"
  }
 },
 "nbformat": 4,
 "nbformat_minor": 5
}
