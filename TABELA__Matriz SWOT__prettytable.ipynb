{
 "cells": [
  {
   "cell_type": "code",
   "execution_count": 2,
   "id": "24751955",
   "metadata": {},
   "outputs": [
    {
     "name": "stdout",
     "output_type": "stream",
     "text": [
      "+--------------------------------+--------------------------------+\n",
      "|             FORÇAS             |           FRAQUEZAS            |\n",
      "+--------------------------------+--------------------------------+\n",
      "| - Cardápios balanceados pelos  |  - Custos elevados de mão de   |\n",
      "|        Nutricionistas.         |              obra              |\n",
      "|  - Qualidade dos equipamentos  |   - Falta de treinamento dos   |\n",
      "|          da cozinha.           |            garçons.            |\n",
      "|  - Cozinheiro com experiência  |  - Desperdício dos alimentos.  |\n",
      "|            na área.            |                                |\n",
      "+--------------------------------+--------------------------------+\n",
      "+--------------------------------+--------------------------------+\n",
      "|         OPORTUNIDADES          |            AMEAÇAS             |\n",
      "+--------------------------------+--------------------------------+\n",
      "|  - Saída de um concorrente na  | - Aumento do custo da energia  |\n",
      "|            região.             |           elétrica.            |\n",
      "|     - Novos interesses dos     |     - Aumento do preço dos     |\n",
      "|         consumidores.          |         fornecedores.          |\n",
      "|   - Participação em feiras,    |   - Avaliação dos clientes.    |\n",
      "|     Workshops e Eventos de     |                                |\n",
      "|          degustação.           |                                |\n",
      "+--------------------------------+--------------------------------+\n"
     ]
    }
   ],
   "source": [
    "# Criação de uma Matriz SWOT\n",
    "\n",
    "# pip install prettytable\n",
    "\n",
    "# importar módulo\n",
    "\n",
    "from prettytable import PrettyTable\n",
    " \n",
    "# definir nomes das colunas\n",
    "minhaSWOT1 = PrettyTable([\"FORÇAS\", \"FRAQUEZAS\"])\n",
    "minhaSWOT2 = PrettyTable([\"OPORTUNIDADES\", \"AMEAÇAS\"])\n",
    "\n",
    "minhaSWOT1._max_width = {\"FORÇAS\" : 30, \"FRAQUEZAS\" : 30}\n",
    "minhaSWOT2._max_width = {\"OPORTUNIDADES\" : 30, \"AMEAÇAS\" : 30}\n",
    " \n",
    "   \n",
    "# Adicionando conteúdo\n",
    "minhaSWOT1.add_row([\"- Cardápios balanceados pelos Nutricionistas.\", \"- Custos elevados de mão de obra\"])\n",
    "minhaSWOT1.add_row([\"- Qualidade dos equipamentos da cozinha.\", \"- Falta de treinamento dos garçons.\"])\n",
    "minhaSWOT1.add_row([\"- Cozinheiro com experiência na área.\", \"- Desperdício dos alimentos.\"])\n",
    "\n",
    "minhaSWOT2.add_row([\"- Saída de um concorrente na região.\", \"- Aumento do custo da energia elétrica.\"])\n",
    "minhaSWOT2.add_row([\"- Novos interesses dos consumidores.\", \"- Aumento do preço dos fornecedores.\"])\n",
    "minhaSWOT2.add_row([\"- Participação em feiras, Workshops e Eventos de degustação.\", \"- Avaliação dos clientes.\"])\n",
    "\n",
    "\n",
    "# printar a SWOT completa\n",
    "\n",
    "print(minhaSWOT1)\n",
    "\n",
    "print(minhaSWOT2)\n"
   ]
  },
  {
   "cell_type": "code",
   "execution_count": null,
   "id": "9bfd1281",
   "metadata": {},
   "outputs": [],
   "source": []
  }
 ],
 "metadata": {
  "kernelspec": {
   "display_name": "Python 3 (ipykernel)",
   "language": "python",
   "name": "python3"
  },
  "language_info": {
   "codemirror_mode": {
    "name": "ipython",
    "version": 3
   },
   "file_extension": ".py",
   "mimetype": "text/x-python",
   "name": "python",
   "nbconvert_exporter": "python",
   "pygments_lexer": "ipython3",
   "version": "3.9.12"
  }
 },
 "nbformat": 4,
 "nbformat_minor": 5
}
