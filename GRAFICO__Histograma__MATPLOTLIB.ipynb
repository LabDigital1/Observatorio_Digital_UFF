{
 "cells": [
  {
   "cell_type": "code",
   "execution_count": 1,
   "id": "da4bd22e",
   "metadata": {},
   "outputs": [
    {
     "data": {
      "image/png": "[encoded data removed]",
      "text/plain": [
       "<Figure size 432x288 with 1 Axes>"
      ]
     },
     "metadata": {
      "needs_background": "light"
     },
     "output_type": "display_data"
    }
   ],
   "source": [
    "# Histograma utilizando a biblioteca Matplotlib.\n",
    "\n",
    "import matplotlib.pyplot as plt\n",
    "\n",
    "idade= ([19, 21, 23, 25, 25, 29, 31, 33, 35, 37, 39, 41, 31, 19,\n",
    "         40, 34, 28, 32, 29, 34, 27, 27, 36, 29, 37, 31, 29, 33, \n",
    "         34, 39, 26, 27, 37, 33, 38, 34, 33, 29, 36, 28, 27, 34,\n",
    "         28, 27, 30, 28, 37, 37, 32, 36, 34, 38, 29, 30, 20, 30,\n",
    "         31, 25, 32, 27, 28, 38, 29, 28, 33, 37, 40, 41, 40, 27,\n",
    "         30, 27, 25, 25, 29, 25, 39, 29, 39, 24, 25, 28, 24, 29, \n",
    "         29, 24, 24, 28, 31, 36, 24, 24, 33, 34, 31, 28, 24, 30,\n",
    "         31, 37, 17, 30, 27, 32, 35, 26, 26, 34, 33, 25, 24, 32,\n",
    "         32, 22, 30, 25, 32, 25, 21, 20, 30, 29, 18, 23, 23, 35, \n",
    "         20, 18, 27, 29, 17, 35, 17, 21, 28, 17, 23, 25, 24, 23,  \n",
    "         20, 29, 22, 21, 22, 26, 19, 24, 25, 22, 19, 23, 18, 22, \n",
    "         35, 30, 28, 27, 29, 29, 22, 25, 22, 29, 26, 22, 19, 22, \n",
    "         33, 24, 29, 28, 19, 26, 29, 19, 31, 21, 21, 26, 31, 29])\n",
    "\n",
    "\n",
    "tamanho= len(idade)\n",
    "\n",
    "cl = int(round(tamanho**(1/2),0))\n",
    "\n",
    "plt.title(\"Histograma de Idades\")\n",
    "plt.xlabel(\"Idades\")\n",
    "plt.ylabel(\"Frequências\")\n",
    "\n",
    "plt.hist(idade, bins = cl, range = ( min(idade), max(idade)), alpha = 0.6, color = 'b')\n",
    "\n",
    "plt.tight_layout()\n",
    "\n",
    "plt.show()\n"
   ]
  },
  {
   "cell_type": "code",
   "execution_count": null,
   "id": "f83281ec",
   "metadata": {},
   "outputs": [],
   "source": []
  }
 ],
 "metadata": {
  "kernelspec": {
   "display_name": "Python 3",
   "language": "python",
   "name": "python3"
  },
  "language_info": {
   "codemirror_mode": {
    "name": "ipython",
    "version": 3
   },
   "file_extension": ".py",
   "mimetype": "text/x-python",
   "name": "python",
   "nbconvert_exporter": "python",
   "pygments_lexer": "ipython3",
   "version": "3.8.8"
  }
 },
 "nbformat": 4,
 "nbformat_minor": 5
}
