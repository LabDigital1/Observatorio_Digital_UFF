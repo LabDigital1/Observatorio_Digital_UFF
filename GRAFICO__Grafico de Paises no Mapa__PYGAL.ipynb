{
 "cells": [
  {
   "cell_type": "code",
   "execution_count": null,
   "id": "9dab6616",
   "metadata": {},
   "outputs": [],
   "source": [
    "# Mapa de grupo de países criado com a biblioteca pygal\n",
    "\n",
    "# pip install pygal\n",
    "\n",
    "\n",
    "import pygal\n",
    "\n",
    "from pygal.style import Style\n",
    "\n",
    "custom_style = Style( colors = ('#FF0000', '#0000FF', '#00FF00', '#FFD700'))\n",
    "\n",
    "worldmap = pygal.maps.world.World(style= custom_style)\n",
    "\n",
    "worldmap.title = 'Some Countries Starting from Specific Letters'\n",
    "\n",
    "worldmap.add('\"E\" Countries', ['ec', 'ee', 'eg', 'eh', 'er', 'es', 'et'])\n",
    "\n",
    "worldmap.add('\"F\" Countries', ['fr', 'fi'])\n",
    "\n",
    "worldmap.add('\"P\" Countries', ['pa', 'pe', 'pg', 'ph', 'pk', 'pl', 'pr', 'ps', 'pt', 'py'])\n",
    "\n",
    "worldmap.add('\"Z\" Countries', ['zm', 'zw'])\n",
    "\n",
    "worldmap.add('\"A\" Countries', ['ad', 'ae', 'af', 'al', 'am', 'aq', 'ar', 'at', 'au', 'az'], color = 'black')\n",
    "\n",
    "worldmap.render_to_file('abc.svg')\n",
    "\n"
   ]
  }
 ],
 "metadata": {
  "kernelspec": {
   "display_name": "Python 3",
   "language": "python",
   "name": "python3"
  },
  "language_info": {
   "codemirror_mode": {
    "name": "ipython",
    "version": 3
   },
   "file_extension": ".py",
   "mimetype": "text/x-python",
   "name": "python",
   "nbconvert_exporter": "python",
   "pygments_lexer": "ipython3",
   "version": "3.8.8"
  }
 },
 "nbformat": 4,
 "nbformat_minor": 5
}
