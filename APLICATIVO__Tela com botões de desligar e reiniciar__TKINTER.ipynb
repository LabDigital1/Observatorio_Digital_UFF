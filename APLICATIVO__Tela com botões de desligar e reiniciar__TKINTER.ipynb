{
 "cells": [
  {
   "cell_type": "code",
   "execution_count": 2,
   "id": "ba7668d1",
   "metadata": {},
   "outputs": [],
   "source": [
    "# Importar bibliotecas\n",
    "from tkinter import *\n",
    "import os\n",
    "\n",
    "# Definir a função de cada botão do aplicativo\n",
    "def desligar():\n",
    "    return os.system('shutdown /s /t 1')\n",
    "def reiniciar():\n",
    "    return os.system('shutdown /r /t 1')\n",
    "def sair():\n",
    "    return os.system('shutdown -l')\n",
    "\n",
    "# Criar o aplicativo\n",
    "master = Tk()\n",
    "master.geometry('120x130')\n",
    "master.configure(bg='grey')\n",
    "\n",
    "# Adicionar botões em seu aplicativo e atribuir as funções nele\n",
    "Button(master, text='Desligar', command=desligar, bg='red', font='times').place(x=31, y=15)\n",
    "Button(master, text='Reiniciar', command=reiniciar, bg='yellow', font='times').place(x=30, y=50)\n",
    "Button(master, text='Sair', command=sair, font='times').place(x=40, y=85)\n",
    "\n",
    "# Manter o aplicativo rodando\n",
    "mainloop()"
   ]
  }
 ],
 "metadata": {
  "kernelspec": {
   "display_name": "Python 3 (ipykernel)",
   "language": "python",
   "name": "python3"
  },
  "language_info": {
   "codemirror_mode": {
    "name": "ipython",
    "version": 3
   },
   "file_extension": ".py",
   "mimetype": "text/x-python",
   "name": "python",
   "nbconvert_exporter": "python",
   "pygments_lexer": "ipython3",
   "version": "3.9.12"
  }
 },
 "nbformat": 4,
 "nbformat_minor": 5
}
