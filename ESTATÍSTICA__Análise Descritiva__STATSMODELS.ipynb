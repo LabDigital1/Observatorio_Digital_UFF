{
 "cells": [
  {
   "cell_type": "code",
   "execution_count": null,
   "id": "0bed78e9",
   "metadata": {},
   "outputs": [],
   "source": [
    "# PASSO 1: Estatística Descritiva\n",
    "\n",
    "import numpy as np\n",
    "import pandas as pd\n",
    "from scipy import stats\n",
    "import statsmodels.api as sm\n",
    "import matplotlib.pyplot as plt\n",
    "\n",
    "df = pd.read_excel(r\"C:\\Users\\STE-UFF\\Desktop\\planilha_venda_casas.xlsx\")\n",
    "\n",
    "df.info()\n",
    "\n",
    "df = df.fillna(0)\n",
    "\n",
    "df2 = df[[\"Preco\", \"Terreno\", \"Quartos\", \"Construcao\"]]\n",
    "\n",
    "df2.describe()\n"
   ]
  },
  {
   "cell_type": "code",
   "execution_count": null,
   "id": "702331f7",
   "metadata": {},
   "outputs": [],
   "source": [
    "# PASSO 2: Matriz de Correlação\n",
    "\n",
    "import numpy as np\n",
    "import pandas as pd\n",
    "from scipy import stats\n",
    "import statsmodels.api as sm\n",
    "import matplotlib.pyplot as plt\n",
    "\n",
    "df = pd.read_excel(r\"C:\\Users\\STE-UFF\\Desktop\\planilha_venda_casas.xlsx\")\n",
    "\n",
    "df = pd.DataFrame(df2,columns=[\"Preco\", \"Terreno\", \"Quartos\", \"Construcao\"])\n",
    "\n",
    "corrMatrix = df.corr()\n",
    "print (corrMatrix)"
   ]
  }
 ],
 "metadata": {
  "kernelspec": {
   "display_name": "Python 3 (ipykernel)",
   "language": "python",
   "name": "python3"
  },
  "language_info": {
   "codemirror_mode": {
    "name": "ipython",
    "version": 3
   },
   "file_extension": ".py",
   "mimetype": "text/x-python",
   "name": "python",
   "nbconvert_exporter": "python",
   "pygments_lexer": "ipython3",
   "version": "3.10.9"
  }
 },
 "nbformat": 4,
 "nbformat_minor": 5
}
