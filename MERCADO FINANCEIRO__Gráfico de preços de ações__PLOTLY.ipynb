{
 "cells": [
  {
   "cell_type": "code",
   "execution_count": null,
   "id": "1b55bd60",
   "metadata": {},
   "outputs": [],
   "source": [
    "# Analisando ações da bolsa americana pertencentes ao índice S&P500\n",
    "# Exemplo Amazon [AMZN]\n",
    "# Gráfico interativo plotado com as bibliotecas Plotly através da API do Yahoo Finance\n",
    "\n",
    "import pandas as pd\n",
    "import datetime as dt \n",
    "import pandas_datareader.data as web\n",
    "import plotly.express as px\n",
    "import plotly.graph_objects as go \n",
    "\n",
    "# data inicial analisado\n",
    "começo = dt.datetime(2015,1,1)\n",
    "\n",
    "# Buscar no yahoo a empresa analisada\n",
    "fim = dt.datetime.now()\n",
    "\n",
    "stocks = web.DataReader(['GM'], 'yahoo', começo, fim)\n",
    "stocks_close = pd.DataFrame(stocks['Close'])\n",
    "\n",
    "# Area do gráfico\n",
    "\n",
    "area_gráfico = px.area(stocks_close.GM, title = 'Preços das Ações da Amazon(2015-2022)')\n",
    "\n",
    "# Nomear o x e y\n",
    "area_gráfico.update_xaxes(title_text = 'Data')\n",
    "area_gráfico.update_yaxes(title_text = 'Preço de Fechamento', tickprefix = '$ ')\n",
    "\n",
    "# Deixar oculta o dado que será analisado\n",
    "area_gráfico.update_layout(showlegend = False)\n",
    "\n",
    "area_gráfico.show()"
   ]
  }
 ],
 "metadata": {
  "kernelspec": {
   "display_name": "Python 3",
   "language": "python",
   "name": "python3"
  },
  "language_info": {
   "codemirror_mode": {
    "name": "ipython",
    "version": 3
   },
   "file_extension": ".py",
   "mimetype": "text/x-python",
   "name": "python",
   "nbconvert_exporter": "python",
   "pygments_lexer": "ipython3",
   "version": "3.8.8"
  }
 },
 "nbformat": 4,
 "nbformat_minor": 5
}
