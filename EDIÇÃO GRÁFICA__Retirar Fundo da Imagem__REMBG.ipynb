{
 "cells": [
  {
   "cell_type": "code",
   "execution_count": 1,
   "id": "2f7f18af",
   "metadata": {},
   "outputs": [],
   "source": [
    "# Retirar o pano de fundo de uma imagem\n",
    "\n",
    "# !pip install rembg\n",
    "\n",
    "from rembg import remove\n",
    "from PIL import Image\n",
    "\n",
    "input_path = (r\"C:\\Users\\Usuario_1\\OneDrive\\Desktop\\pessoa_na_neve.jpg\")\n",
    "\n",
    "output_path =  (r\"C:\\Users\\Usuario_1\\OneDrive\\Desktop\\pessoa_na_neve.png\")\n",
    "\n",
    "# Carregar imagem\n",
    "input_image = Image.open(input_path)\n",
    "\n",
    "# Remover fundo\n",
    "output_image = remove(input_image)\n",
    "\n",
    "# Salvar imagem sem fundo\n",
    "output_image.save(output_path)"
   ]
  },
  {
   "cell_type": "code",
   "execution_count": null,
   "id": "82bcc99e",
   "metadata": {},
   "outputs": [],
   "source": []
  }
 ],
 "metadata": {
  "kernelspec": {
   "display_name": "Python 3 (ipykernel)",
   "language": "python",
   "name": "python3"
  },
  "language_info": {
   "codemirror_mode": {
    "name": "ipython",
    "version": 3
   },
   "file_extension": ".py",
   "mimetype": "text/x-python",
   "name": "python",
   "nbconvert_exporter": "python",
   "pygments_lexer": "ipython3",
   "version": "3.9.12"
  }
 },
 "nbformat": 4,
 "nbformat_minor": 5
}
