{
 "cells": [
  {
   "cell_type": "code",
   "execution_count": null,
   "id": "6676cdc2",
   "metadata": {},
   "outputs": [],
   "source": [
    "# Gráfico de barras interativo usando a biblioteca Plotly\n",
    "\n",
    "# Importar a biblioteca\n",
    "import plotly.express as px\n",
    "\n",
    "# Definir os dados\n",
    "fig = px.bar(x=[\"Marketing\", \"Vendas\", \"Financeira\", \"RH\", \"Logística\"], y=[5000, 1000, 2800, 1500, 2500])\n",
    "\n",
    "# Dar título, nomear as variáveis e definir a cor de fundo\n",
    "fig.update_layout(title=\"Custo por área\",\n",
    "xaxis_title='Áreas',\n",
    "yaxis_title='Custo',\n",
    "template = 'plotly_white')\n",
    "\n",
    "# Mostrar o gráfico\n",
    "fig.show()"
   ]
  },
  {
   "cell_type": "code",
   "execution_count": null,
   "id": "cd830507",
   "metadata": {},
   "outputs": [],
   "source": []
  }
 ],
 "metadata": {
  "kernelspec": {
   "display_name": "Python 3 (ipykernel)",
   "language": "python",
   "name": "python3"
  },
  "language_info": {
   "codemirror_mode": {
    "name": "ipython",
    "version": 3
   },
   "file_extension": ".py",
   "mimetype": "text/x-python",
   "name": "python",
   "nbconvert_exporter": "python",
   "pygments_lexer": "ipython3",
   "version": "3.9.7"
  }
 },
 "nbformat": 4,
 "nbformat_minor": 5
}
