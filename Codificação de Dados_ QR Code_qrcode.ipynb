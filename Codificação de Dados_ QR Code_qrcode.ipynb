{
 "cells": [
  {
   "cell_type": "code",
   "execution_count": null,
   "id": "39e4bd55",
   "metadata": {},
   "outputs": [],
   "source": [
    "# Caso realizado no Jupyter, o QR Code ficará salvo no home page\n",
    "\n",
    "# Importar Biblioteca\n",
    "import qrcode\n",
    "\n",
    "# Exemplo de data\n",
    "url = \"https://www.linkedin.com/in/laborat%C3%B3rio-de-empreendedorismo-digital-7654a723b/\"\n",
    "\n",
    "# Nomear o arquivo\n",
    "nome = 'Lab_Dig.png'\n",
    "\n",
    "# Gerar o QR Code\n",
    "img = qrcode.make(url)\n",
    "\n",
    "# Salvamos a img num arquivo\n",
    "img.save(nome)\n"
   ]
  }
 ],
 "metadata": {
  "kernelspec": {
   "display_name": "Python 3 (ipykernel)",
   "language": "python",
   "name": "python3"
  },
  "language_info": {
   "codemirror_mode": {
    "name": "ipython",
    "version": 3
   },
   "file_extension": ".py",
   "mimetype": "text/x-python",
   "name": "python",
   "nbconvert_exporter": "python",
   "pygments_lexer": "ipython3",
   "version": "3.9.7"
  }
 },
 "nbformat": 4,
 "nbformat_minor": 5
}
