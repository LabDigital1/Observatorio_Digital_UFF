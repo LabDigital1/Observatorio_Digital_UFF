{
 "cells": [
  {
   "cell_type": "code",
   "execution_count": 2,
   "id": "39e4bd55",
   "metadata": {},
   "outputs": [],
   "source": [
    "# Caso realizado no Jupyter, o QR Code ficará salvo no home page\n",
    "\n",
    "# Importar Biblioteca\n",
    "import qrcode\n",
    "\n",
    "# Pesquisar o site\n",
    "url = \"http://observatoriodigital.sites.uff.br/laboratorio/\"\n",
    "\n",
    "# Nomear o arquivo\n",
    "nome = 'Obs_Dig.png'\n",
    "\n",
    "# Gerar o QR Code\n",
    "img = qrcode.make(url)\n",
    "\n",
    "# Salvamos a img num arquivo\n",
    "img.save(nome)\n"
   ]
  },
  {
   "cell_type": "code",
   "execution_count": null,
   "id": "46e81abb",
   "metadata": {},
   "outputs": [],
   "source": []
  }
 ],
 "metadata": {
  "kernelspec": {
   "display_name": "Python 3 (ipykernel)",
   "language": "python",
   "name": "python3"
  },
  "language_info": {
   "codemirror_mode": {
    "name": "ipython",
    "version": 3
   },
   "file_extension": ".py",
   "mimetype": "text/x-python",
   "name": "python",
   "nbconvert_exporter": "python",
   "pygments_lexer": "ipython3",
   "version": "3.9.7"
  }
 },
 "nbformat": 4,
 "nbformat_minor": 5
}
