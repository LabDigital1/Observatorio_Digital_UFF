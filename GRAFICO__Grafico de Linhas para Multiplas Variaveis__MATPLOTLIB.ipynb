{
 "cells": [
  {
   "cell_type": "code",
   "execution_count": null,
   "id": "7b5fd48e",
   "metadata": {},
   "outputs": [],
   "source": [
    "# Plotar um gráfico de linhas com múltiplas variáveis\n",
    "\n",
    "from matplotlib import pyplot as plt\n",
    "\n",
    "plt.style.use(\"ggplot\")\n",
    "\n",
    "x = [2015, 2016, 2017, 2018, 2019, 2020, 2021]\n",
    "\n",
    "y1 = [1200, 1250, 1400, 1430, 1700, 1800, 1850]\n",
    "\n",
    "y2 = [1520, 1610, 1680, 1700, 1920, 1830, 2025]\n",
    "\n",
    "y3 = [1600, 1620, 1530, 1620, 1850, 1950, 2200]\n",
    "\n",
    "plt.plot(x, y1, color=\"b\", linestyle=\"--\", marker=\"o\", label=\"Empresa 1\")\n",
    "plt.plot(x, y2, color=\"k\", marker=\"o\", linewidth=3, label=\"Empresa 2\")\n",
    "plt.plot(x, y3, color=\"r\", marker=\"x\", linewidth=3, label=\"Empresa 3\")\n",
    "\n",
    "plt.xlabel(\"X-Anos\")\n",
    "plt.ylabel(\"Y-Faturamento(x1000)\")\n",
    "plt.title(\"Gráfico de Faturamento (Feito com Matplotlib)\")\n",
    "plt.grid(True)\n",
    "plt.legend()\n",
    "plt.show()"
   ]
  }
 ],
 "metadata": {
  "kernelspec": {
   "display_name": "Python 3",
   "language": "python",
   "name": "python3"
  },
  "language_info": {
   "codemirror_mode": {
    "name": "ipython",
    "version": 3
   },
   "file_extension": ".py",
   "mimetype": "text/x-python",
   "name": "python",
   "nbconvert_exporter": "python",
   "pygments_lexer": "ipython3",
   "version": "3.8.8"
  }
 },
 "nbformat": 4,
 "nbformat_minor": 5
}
