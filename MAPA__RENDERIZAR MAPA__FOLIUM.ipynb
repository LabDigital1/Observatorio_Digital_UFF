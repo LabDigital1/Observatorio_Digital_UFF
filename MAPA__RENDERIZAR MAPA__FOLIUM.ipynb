{
 "cells": [
  {
   "cell_type": "code",
   "execution_count": 1,
   "id": "7b6550e6",
   "metadata": {},
   "outputs": [
    {
     "name": "stdout",
     "output_type": "stream",
     "text": [
      ".\\mapa.html\n"
     ]
    }
   ],
   "source": [
    "# Renderizar mapa\n",
    "\n",
    "# instalar biblioteca folium\n",
    "\n",
    "# importar biblioteca folium\n",
    "\n",
    "import folium\n",
    "\n",
    "mapa = folium.Map(\n",
    "    location=[-22.896684981946635, -43.12536388625122],\n",
    "    tiles='Stamen Terrain', # Estilo do mapa #\n",
    "    zoom_start=16\n",
    ")\n",
    "\n",
    "# Adicionar marcador no mapa\n",
    "folium.Marker(\n",
    "    [-22.896684981946635, -43.12536388625122],\n",
    "    popup='<i>Laboratório de Empreendedorismo Digital da UFF</i>',\n",
    "    tooltip=\"Click aqui!\"\n",
    ").add_to(mapa)\n",
    "\n",
    "# Salvar html do mapa\n",
    "mapa.save(r'.\\mapa.html')\n",
    "\n",
    "print(r'.\\mapa.html')"
   ]
  },
  {
   "cell_type": "code",
   "execution_count": null,
   "id": "852d3599",
   "metadata": {},
   "outputs": [],
   "source": []
  }
 ],
 "metadata": {
  "kernelspec": {
   "display_name": "Python 3 (ipykernel)",
   "language": "python",
   "name": "python3"
  },
  "language_info": {
   "codemirror_mode": {
    "name": "ipython",
    "version": 3
   },
   "file_extension": ".py",
   "mimetype": "text/x-python",
   "name": "python",
   "nbconvert_exporter": "python",
   "pygments_lexer": "ipython3",
   "version": "3.9.12"
  }
 },
 "nbformat": 4,
 "nbformat_minor": 5
}
