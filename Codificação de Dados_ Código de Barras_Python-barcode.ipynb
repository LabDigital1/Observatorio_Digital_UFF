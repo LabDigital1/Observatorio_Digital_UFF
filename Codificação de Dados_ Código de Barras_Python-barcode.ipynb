{
 "cells": [
  {
   "cell_type": "code",
   "execution_count": 2,
   "id": "e1679746",
   "metadata": {},
   "outputs": [],
   "source": [
    "# Instalar a biblioteca\n",
    "# pip install Python-barcode\n",
    "\n",
    "# Importar as bibliotecas\n",
    "from barcode import EAN13\n",
    "from barcode.writer import ImageWriter \n",
    "\n",
    "# Definir os dados da barra\n",
    "cod_prod = {\n",
    "    \"Leite\": \"7134986509456\",\n",
    "    \"Nescau\": \"6709544676543\",\n",
    "    \"Leite Condensado\": \"7000563287101\",\n",
    "    \"Chocolate\": \"8099567732346\"}\n",
    "\n",
    "# Criar a imagem das barras de acordo com os dados listados\n",
    "for prod in cod_prod:\n",
    "    cod_barra = EAN13(cod_prod[prod], writer=ImageWriter()) \n",
    "    cod_barra.save(f\"código do {prod}\")"
   ]
  },
  {
   "cell_type": "code",
   "execution_count": null,
   "id": "e9b6f6c3",
   "metadata": {},
   "outputs": [],
   "source": []
  }
 ],
 "metadata": {
  "kernelspec": {
   "display_name": "Python 3 (ipykernel)",
   "language": "python",
   "name": "python3"
  },
  "language_info": {
   "codemirror_mode": {
    "name": "ipython",
    "version": 3
   },
   "file_extension": ".py",
   "mimetype": "text/x-python",
   "name": "python",
   "nbconvert_exporter": "python",
   "pygments_lexer": "ipython3",
   "version": "3.9.7"
  }
 },
 "nbformat": 4,
 "nbformat_minor": 5
}
