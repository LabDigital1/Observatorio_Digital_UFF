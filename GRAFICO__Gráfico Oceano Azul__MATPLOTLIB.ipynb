{
 "cells": [
  {
   "cell_type": "code",
   "execution_count": 16,
   "id": "6204b4fd",
   "metadata": {},
   "outputs": [
    {
     "name": "stdout",
     "output_type": "stream",
     "text": [
      "Quiz sobre criptomoedas.\n",
      "Qual a criptomoeda com o maior valor de mercado? Bitcoin\n",
      "Resposta Correta!\n",
      "Qual a principal tecnologia utilizada nas criptomoedas Bitcoin e Ethereum? Blockchain\n",
      "Resposta Correta!\n",
      "Quando foi criado o bitcoin? 2008\n",
      "Resposta errada. Tente novamente.2010\n",
      "Resposta errada. Tente novamente.2009\n",
      "Resposta Correta!\n",
      "Seu Score é 3\n"
     ]
    }
   ],
   "source": [
    "# Plotar uma curva de valor do Oceano Azul com Python\n",
    "\n",
    "# Importar Biblioteca\n",
    "from matplotlib import pyplot as plt\n",
    "\n",
    "# Definir o estilo de gráfico\n",
    "plt.style.use(\"ggplot\")\n",
    "\n",
    "# Definir o eixo x do gráfico\n",
    "x = [\"Variedade de Produto\", \"Variedade de Marca\", \"Preço baixo\", \"Localização\", \"Ambiente da loja\", \"Atendimento\"]\n",
    "\n",
    "# Inserir os dados do gráfico\n",
    "y1 = [6, 6, 8, 7, 2, 2]\n",
    "\n",
    "y2 = [8, 8, 10, 7, 7, 6]\n",
    "\n",
    "# Alterar a cor, o tipo e a nomenclatura das linhas do gráfico.\n",
    "plt.plot(x, y1, color=\"limegreen\", linestyle=\"--\", marker=\"o\", label=\"Brasil\")\n",
    "plt.plot(x, y2, color=\"black\", marker=\"o\", linewidth=3, label=\"Exterior\")\n",
    "\n",
    "# Nomear os eixos e dar o titulo do gráfico\n",
    "plt.xlabel(\"Atributos de Valor\")\n",
    "plt.title(\"Curva de Valor da Estratégia do Oceano Azul(Supermecados Brasil X Exterior)\")\n",
    "\n",
    "# Esconder os valores no eixo y\n",
    "ax = plt.gca()\n",
    "ax.axes.yaxis.set_visible(True)\n",
    "\n",
    "\n",
    "# Aumentar o tamanho do grafico\n",
    "plt.rcParams[\"figure.figsize\"] = (,6)\n",
    "\n",
    "plt.grid(True)    # Quadricular o fundo do gráfico\n",
    "plt.legend()\n",
    "plt.show()"
   ]
  },
  {
   "cell_type": "code",
   "execution_count": null,
   "id": "5d318939",
   "metadata": {},
   "outputs": [],
   "source": []
  }
 ],
 "metadata": {
  "kernelspec": {
   "display_name": "Python 3 (ipykernel)",
   "language": "python",
   "name": "python3"
  },
  "language_info": {
   "codemirror_mode": {
    "name": "ipython",
    "version": 3
   },
   "file_extension": ".py",
   "mimetype": "text/x-python",
   "name": "python",
   "nbconvert_exporter": "python",
   "pygments_lexer": "ipython3",
   "version": "3.9.7"
  }
 },
 "nbformat": 4,
 "nbformat_minor": 5
}
